{
 "cells": [
  {
   "cell_type": "markdown",
   "metadata": {},
   "source": [
    "namespace : modules create namespace\n",
    "\n",
    "scope:\n",
    "\n",
    "1. local scope\n",
    "2. nonlocal scope\n",
    "3. global scope\n",
    "4. builtin scope\n",
    "\n",
    "function g has scope\n",
    "\n",
    "    .h is in local scope of g\n",
    "    .j is in the local scope of f\n",
    "        \n",
    "        j is visible in g\n",
    "        \n",
    "        j is in **nonlocal** scope of g\n",
    "\n",
    " . integer, bool, etc., string are **immutable** variables.\n",
    " . list is **mutable**\n",
    "\n",
    "\n",
    "\n",
    "\n"
   ]
  },
  {
   "cell_type": "code",
   "execution_count": null,
   "metadata": {},
   "outputs": [],
   "source": [
    "import random\n",
    "\n",
    "random.randint(3, 99)\n",
    "\n",
    "i = 5\n",
    "i += 1\n",
    "\n",
    "def f():\n",
    "    j = 3\n",
    "    x = [3, 5]\n",
    "    print (x)\n",
    "\n",
    "    def g():\n",
    "        h = 6\n",
    "\n",
    "        j = 10\n",
    "        t = x.append(7)\n",
    "        x = t\n",
    "        \n",
    "        print (j)\n",
    "        print (x)\n",
    "\n",
    "    g()\n",
    "\n",
    "    print (j)\n",
    "    print (x)\n",
    "\n",
    "f()"
   ]
  },
  {
   "cell_type": "code",
   "execution_count": 15,
   "metadata": {},
   "outputs": [
    {
     "name": "stdout",
     "output_type": "stream",
     "text": [
      "[3, 5]\n",
      "[3, 5, 7]\n",
      "[3, 5, 7]\n"
     ]
    }
   ],
   "source": [
    "def f():\n",
    "    \n",
    "    x = [3, 5]\n",
    "    print (x)\n",
    "\n",
    "    def g():\n",
    "        \n",
    "        x.append(7)\n",
    "        \n",
    "\n",
    "        print (x)\n",
    "\n",
    "    g()\n",
    "\n",
    "\n",
    "    print (x)\n",
    "\n",
    "f()"
   ]
  },
  {
   "cell_type": "code",
   "execution_count": null,
   "metadata": {},
   "outputs": [],
   "source": [
    "def f():\n",
    "    \n",
    "    x = [3, 5]\n",
    "    print (x)\n",
    "\n",
    "    def g():\n",
    "        \n",
    "        x = [7,8]\n",
    "        print (x)\n",
    "\n",
    "    g()\n",
    "\n",
    "\n",
    "    print (x)\n",
    "\n",
    "f()"
   ]
  },
  {
   "cell_type": "code",
   "execution_count": null,
   "metadata": {},
   "outputs": [],
   "source": [
    "x = [3, 5]\n",
    "def f():\n",
    "    y = x\n",
    "    y.append(10)\n",
    "    print (y)\n",
    "\n",
    "\n",
    "f()\n",
    "print (x)"
   ]
  },
  {
   "cell_type": "code",
   "execution_count": 20,
   "metadata": {},
   "outputs": [
    {
     "name": "stdout",
     "output_type": "stream",
     "text": [
      "[3, 5]\n",
      "[3, 5]\n",
      "[]\n"
     ]
    }
   ],
   "source": [
    "x = [3, 5]\n",
    "y = x;\n",
    "\n",
    "print (y)\n",
    "y = []\n",
    "x = y\n",
    "\n",
    "print (x)\n",
    "print (y)\n",
    "\n"
   ]
  }
 ],
 "metadata": {
  "interpreter": {
   "hash": "58bb41c0b5087c2b64c9c5e944653e133a7957ccc35d82dc772f29df3229b05c"
  },
  "kernelspec": {
   "display_name": "Python 3.7.4 ('base')",
   "language": "python",
   "name": "python3"
  },
  "language_info": {
   "codemirror_mode": {
    "name": "ipython",
    "version": 3
   },
   "file_extension": ".py",
   "mimetype": "text/x-python",
   "name": "python",
   "nbconvert_exporter": "python",
   "pygments_lexer": "ipython3",
   "version": "3.7.4"
  },
  "orig_nbformat": 4
 },
 "nbformat": 4,
 "nbformat_minor": 2
}
